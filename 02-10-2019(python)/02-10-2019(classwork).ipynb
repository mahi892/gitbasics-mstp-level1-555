{
 "cells": [
  {
   "cell_type": "markdown",
   "metadata": {},
   "source": [
    "## Regular Expressions"
   ]
  },
  {
   "cell_type": "code",
   "execution_count": 1,
   "metadata": {},
   "outputs": [
    {
     "ename": "SyntaxError",
     "evalue": "invalid syntax (<ipython-input-1-76cc1ea47d15>, line 1)",
     "output_type": "error",
     "traceback": [
      "\u001b[1;36m  File \u001b[1;32m\"<ipython-input-1-76cc1ea47d15>\"\u001b[1;36m, line \u001b[1;32m1\u001b[0m\n\u001b[1;33m    1.abc--> that matches the character sequence in the string\u001b[0m\n\u001b[1;37m        ^\u001b[0m\n\u001b[1;31mSyntaxError\u001b[0m\u001b[1;31m:\u001b[0m invalid syntax\n"
     ]
    }
   ],
   "source": [
    "1.abc--> that matches the character sequence in the string\n",
    "2.^--->at the begining of the string\n",
    "3.abc$-->at the end of the string\n",
    "4.a|b--->eaithe of a and b\n",
    "5.^abs|abc$-->the string abc at the or the end begining at the string\n",
    "6.ab{2,4}c--->an a follwed by 2,3 or 4 bs followed by c\n",
    "7.ab{2}-->an a followed by at least two b's followed by c\n",
    "8.ab*c-->an a followed by any number(zero or more)of b's follwed by c\n",
    "9.ab+c-->an a followed by one or more bs followed by c\n",
    "10.ab?c--->an a followed by optional b followed by c that is eaither by abc ac\n",
    "11.a.c-->a followed by single character followed by c"
   ]
  },
  {
   "cell_type": "markdown",
   "metadata": {},
   "source": [
    "## phone validation"
   ]
  },
  {
   "cell_type": "code",
   "execution_count": 18,
   "metadata": {},
   "outputs": [
    {
     "data": {
      "text/plain": [
       "1"
      ]
     },
     "execution_count": 18,
     "metadata": {},
     "output_type": "execute_result"
    }
   ],
   "source": [
    "#^[0][6-9][0-9]{9}## 10 digit number started with zero\n",
    "#^+91[6789][0-9]{9}--10 digit number started with +91\n",
    "#^[6-9][0-9$\n",
    "import re\n",
    "def phoneno(no):\n",
    "    pattern=\"^[+][9][1][6789][0-9]{9}$|^[6-9][0-9]{9}$|^[0][6-9][0-9]{9}\"\n",
    "    if re.match(pattern,str(no)):\n",
    "        return 1\n",
    "    else:\n",
    "        return 0\n",
    "phoneno(\"+918179782806\")\n",
    "phoneno(\"8179782806\")\n",
    "phoneno(\"08179782806\")"
   ]
  },
  {
   "cell_type": "markdown",
   "metadata": {},
   "source": [
    "## email validation"
   ]
  },
  {
   "cell_type": "code",
   "execution_count": 19,
   "metadata": {},
   "outputs": [
    {
     "data": {
      "text/plain": [
       "1"
      ]
     },
     "execution_count": 19,
     "metadata": {},
     "output_type": "execute_result"
    }
   ],
   "source": [
    "import re\n",
    "def email(username):\n",
    "    pattern=\"^([a-z]|[0-9]|[A-Z])([0-9]|[a-z]|[A-Z]|[_]){6,15}([0-9]|[a-z])@[a-z]{2,10}[.][a-z]{2,4}$\"\n",
    "    if re.match(pattern,str(username)):\n",
    "        return 1\n",
    "    else:\n",
    "        return 0\n",
    "email(\"mamaTHAKARA555@gmail.com\")"
   ]
  },
  {
   "cell_type": "markdown",
   "metadata": {},
   "source": [
    "## RollNubmber"
   ]
  },
  {
   "cell_type": "code",
   "execution_count": 16,
   "metadata": {},
   "outputs": [
    {
     "data": {
      "text/plain": [
       "1"
      ]
     },
     "execution_count": 16,
     "metadata": {},
     "output_type": "execute_result"
    }
   ],
   "source": [
    "import re\n",
    "def rollnumber(no):\n",
    "    pattern=\"^[0-9]{2}([0-9]|[a-z]|[A-Z]){2}[1]([A-Z]|[a-z])[0]([0-9]|[a-z]|[A-Z]){3}$\"\n",
    "    if re.match(pattern,str(no)):\n",
    "        return 1\n",
    "    else:\n",
    "        return 0\n",
    "rollnumber(\"162T1A05b2\")"
   ]
  },
  {
   "cell_type": "code",
   "execution_count": 36,
   "metadata": {},
   "outputs": [
    {
     "name": "stdout",
     "output_type": "stream",
     "text": [
      "phone verified successfully\n",
      "email varified successfully\n"
     ]
    },
    {
     "data": {
      "text/plain": [
       "{'name': ['8179782806', 'MAMATHAreddy555@gmail.com'],\n",
       " 'vithika': ['9573899828', 'karakalmamatha@gmail.com']}"
      ]
     },
     "execution_count": 36,
     "metadata": {},
     "output_type": "execute_result"
    }
   ],
   "source": [
    "contact={\"name\":[\"8179782806\",\"MAMATHAreddy555@gmail.com\"]}\n",
    "def addcontact(name,l):\n",
    "    if name not in contact:\n",
    "        no=l[0]\n",
    "        id=l[1]\n",
    "        if phoneno(no)==1:\n",
    "            print(\"phone verified successfully\")\n",
    "            if email(id)==1:\n",
    "                print(\"email varified successfully\")\n",
    "                contact[name]=l\n",
    "            else:\n",
    "                print(\"enter a valid no and  email id\")\n",
    "    else:\n",
    "        print(\"contact already exists\")\n",
    "addcontact(\"vithika\",[\"9573899828\",\"karakalmamatha@gmail.com\"])\n",
    "contact"
   ]
  },
  {
   "cell_type": "code",
   "execution_count": null,
   "metadata": {},
   "outputs": [],
   "source": []
  },
  {
   "cell_type": "code",
   "execution_count": null,
   "metadata": {},
   "outputs": [],
   "source": []
  },
  {
   "cell_type": "code",
   "execution_count": null,
   "metadata": {},
   "outputs": [],
   "source": []
  }
 ],
 "metadata": {
  "kernelspec": {
   "display_name": "Python 3",
   "language": "python",
   "name": "python3"
  },
  "language_info": {
   "codemirror_mode": {
    "name": "ipython",
    "version": 3
   },
   "file_extension": ".py",
   "mimetype": "text/x-python",
   "name": "python",
   "nbconvert_exporter": "python",
   "pygments_lexer": "ipython3",
   "version": "3.7.3"
  }
 },
 "nbformat": 4,
 "nbformat_minor": 2
}

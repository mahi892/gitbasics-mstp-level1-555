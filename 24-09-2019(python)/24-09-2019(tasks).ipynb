{
 "cells": [
  {
   "cell_type": "markdown",
   "metadata": {},
   "source": [
    "### 1.Check if the number exist in a given range (inputs: number(n), range(lower number and upper number) "
   ]
  },
  {
   "cell_type": "code",
   "execution_count": 84,
   "metadata": {},
   "outputs": [
    {
     "name": "stdout",
     "output_type": "stream",
     "text": [
      "10\n",
      "1\n",
      "20\n",
      "in range--> 10\n"
     ]
    }
   ],
   "source": [
    "def number(n):\n",
    "    if n in range(lb,ub):\n",
    "        print(\"in range-->\",n)\n",
    "    else:\n",
    "        print(\"not in range-->\",n)\n",
    "n=int(input())\n",
    "lb=int(input())\n",
    "ub=int(input())\n",
    "number(n)\n",
    "    "
   ]
  },
  {
   "cell_type": "markdown",
   "metadata": {},
   "source": [
    "### 2.Check the number of digits in a given number"
   ]
  },
  {
   "cell_type": "code",
   "execution_count": 47,
   "metadata": {},
   "outputs": [
    {
     "name": "stdout",
     "output_type": "stream",
     "text": [
      "3456\n",
      "4\n"
     ]
    }
   ],
   "source": [
    "def number(n):\n",
    "    count=0\n",
    "    for i in range(1,len(n)+1):\n",
    "        if(i<=len(n)):\n",
    "            count=count+1\n",
    "    if(count==len(n)):\n",
    "         print(count)\n",
    "n=input()\n",
    "number(n)\n",
    "        "
   ]
  },
  {
   "cell_type": "markdown",
   "metadata": {},
   "source": [
    "### 3.Check if the given number is a factor of 1000 "
   ]
  },
  {
   "cell_type": "code",
   "execution_count": 90,
   "metadata": {},
   "outputs": [
    {
     "name": "stdout",
     "output_type": "stream",
     "text": [
      "4\n",
      "given number is a factor of 1000\n"
     ]
    }
   ],
   "source": [
    "def factor(n):\n",
    "    if(1000%n==0):\n",
    "            print(\"given number is a factor of 1000\")\n",
    "    else:\n",
    "            print(\"given number is not factor of 1000\")\n",
    "n=int(input())\n",
    "factor(n)"
   ]
  },
  {
   "cell_type": "markdown",
   "metadata": {},
   "source": [
    "### 4.Calculate the square root of a given number "
   ]
  },
  {
   "cell_type": "code",
   "execution_count": 74,
   "metadata": {},
   "outputs": [
    {
     "name": "stdout",
     "output_type": "stream",
     "text": [
      "3\n",
      "1.73\n"
     ]
    }
   ],
   "source": [
    "def square(n):\n",
    "        sum=n**0.5\n",
    "        print(round(sum,2))\n",
    "n=int(input())\n",
    "square(n)"
   ]
  },
  {
   "cell_type": "markdown",
   "metadata": {},
   "source": [
    "### 5.python program to take values of length and breadth(width) of a rectangle from user and check if it is square or not."
   ]
  },
  {
   "cell_type": "code",
   "execution_count": 92,
   "metadata": {},
   "outputs": [
    {
     "name": "stdout",
     "output_type": "stream",
     "text": [
      "3\n",
      "4\n",
      "is rectangle\n"
     ]
    }
   ],
   "source": [
    "def value(l,b):\n",
    "    if(l==b):\n",
    "        print(\"is square\")\n",
    "    else:\n",
    "        print(\"is rectangle\")\n",
    "l=int(input())\n",
    "b=int(input())\n",
    "value(l,b)"
   ]
  },
  {
   "cell_type": "markdown",
   "metadata": {},
   "source": [
    "### 6.A school has following rules for grading system:\n",
    "* Below 25 - F\n",
    "* 25 to 45 - E\n",
    "* 45 to 50 - D\n",
    "* 50 to 60 - C\n",
    "* 60 to 80 - B\n",
    "* Above 80 - A\n",
    "* Ask user to enter marks and print the corresponding grade. "
   ]
  },
  {
   "cell_type": "code",
   "execution_count": 66,
   "metadata": {},
   "outputs": [
    {
     "name": "stdout",
     "output_type": "stream",
     "text": [
      "56\n",
      "grade: c\n"
     ]
    }
   ],
   "source": [
    "def grade(n):\n",
    "        if(n<=25):\n",
    "            print(\"grade: F\")\n",
    "        elif(n<=45):\n",
    "            print(\"grade: E\")\n",
    "        elif(n<=50):\n",
    "            print(\"grade: D\")\n",
    "        elif(n<=60):\n",
    "            print(\"grade: c\")\n",
    "        elif(n<=80):\n",
    "            print(\"grade: D\")\n",
    "        elif(n>80):\n",
    "            print(\"grade: A\")\n",
    "n=int(input())\n",
    "grade(n)"
   ]
  },
  {
   "cell_type": "markdown",
   "metadata": {},
   "source": [
    "### 7.Take input of age of 3 people by user and determine oldest and youngest among them. "
   ]
  },
  {
   "cell_type": "code",
   "execution_count": 94,
   "metadata": {},
   "outputs": [
    {
     "name": "stdout",
     "output_type": "stream",
     "text": [
      "20\n",
      "26\n",
      "60\n",
      "oldest--> 26\n",
      "young--> 60\n"
     ]
    }
   ],
   "source": [
    "def people(a,b,c):\n",
    "        if(a>b & a>c):\n",
    "            oldest=a\n",
    "        elif(b>c & b>a):\n",
    "            oldest=b\n",
    "        else:\n",
    "            oldest=c\n",
    "        if(a<b & a<c):\n",
    "            young=a\n",
    "        elif(b<a & b<c):\n",
    "            young=b\n",
    "        else:\n",
    "            young=c\n",
    "        print(\"oldest-->\",oldest)\n",
    "        print(\"young-->\",young)\n",
    "a=int(input())\n",
    "b=int(input())\n",
    "c=int(input())\n",
    "people(a,b,c)"
   ]
  },
  {
   "cell_type": "markdown",
   "metadata": {},
   "source": [
    "### 8..A student will not be allowed to sit in exam if his/her attendance is less than 75%.\n",
    "* 1.Take following input from user Number of classes held,Number of classes attended.\n",
    "* 2.And print percentage of class attended Is student is allowed to sit in exam or not. \n"
   ]
  },
  {
   "cell_type": "code",
   "execution_count": 97,
   "metadata": {},
   "outputs": [
    {
     "name": "stdout",
     "output_type": "stream",
     "text": [
      "400\n",
      "56\n",
      "14.000000000000002\n",
      "not allowed\n"
     ]
    }
   ],
   "source": [
    "def attendance(n,r):\n",
    "    a=((r/n)*(100))\n",
    "    print(a)\n",
    "    if(a>=75):\n",
    "        print(\"allowed\")\n",
    "    else:\n",
    "        print(\"not allowed\")\n",
    "n=int(input())\n",
    "r=int(input())\n",
    "attendance(n,r)\n",
    "        "
   ]
  },
  {
   "cell_type": "markdown",
   "metadata": {},
   "source": [
    "### 2.another way"
   ]
  },
  {
   "cell_type": "code",
   "execution_count": 78,
   "metadata": {},
   "outputs": [
    {
     "name": "stdout",
     "output_type": "stream",
     "text": [
      "123\n",
      "3\n"
     ]
    }
   ],
   "source": [
    "def digit(n):\n",
    "    b=len(n)\n",
    "    print(b)\n",
    "n=input()\n",
    "digit(n)\n"
   ]
  },
  {
   "cell_type": "code",
   "execution_count": null,
   "metadata": {},
   "outputs": [],
   "source": []
  }
 ],
 "metadata": {
  "kernelspec": {
   "display_name": "Python 3",
   "language": "python",
   "name": "python3"
  },
  "language_info": {
   "codemirror_mode": {
    "name": "ipython",
    "version": 3
   },
   "file_extension": ".py",
   "mimetype": "text/x-python",
   "name": "python",
   "nbconvert_exporter": "python",
   "pygments_lexer": "ipython3",
   "version": "3.7.3"
  }
 },
 "nbformat": 4,
 "nbformat_minor": 2
}

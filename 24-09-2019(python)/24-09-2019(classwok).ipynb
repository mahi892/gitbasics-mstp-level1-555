{
 "cells": [
  {
   "cell_type": "markdown",
   "metadata": {},
   "source": [
    "# Functions\n",
    "### Reusability\n",
    "### easy to debug\n",
    "* function declartion\n",
    "* function definition\n",
    "* function calling"
   ]
  },
  {
   "cell_type": "code",
   "execution_count": null,
   "metadata": {},
   "outputs": [],
   "source": [
    "def functionname():\n",
    "    statement1\n",
    "    statement2\n",
    "functionname() # function call\n",
    "    "
   ]
  },
  {
   "cell_type": "code",
   "execution_count": 1,
   "metadata": {},
   "outputs": [
    {
     "name": "stdout",
     "output_type": "stream",
     "text": [
      "40\n",
      "50\n",
      "90\n"
     ]
    }
   ],
   "source": [
    "def addition():\n",
    "    a=int(input())\n",
    "    b=int(input())\n",
    "    print(a+b)\n",
    "addition()"
   ]
  },
  {
   "cell_type": "markdown",
   "metadata": {},
   "source": [
    "## function with arguments"
   ]
  },
  {
   "cell_type": "code",
   "execution_count": 2,
   "metadata": {},
   "outputs": [
    {
     "name": "stdout",
     "output_type": "stream",
     "text": [
      "30\n",
      "50\n",
      "80\n"
     ]
    }
   ],
   "source": [
    "def addition(a,b):\n",
    "    c=a+b\n",
    "    print(c)\n",
    "a=int(input())\n",
    "b=int(input())\n",
    "addition(a,b)"
   ]
  },
  {
   "cell_type": "code",
   "execution_count": 3,
   "metadata": {},
   "outputs": [
    {
     "data": {
      "text/plain": [
       "(20, 30, 50)"
      ]
     },
     "execution_count": 3,
     "metadata": {},
     "output_type": "execute_result"
    }
   ],
   "source": [
    "def add(a,b):\n",
    "    c=a+b\n",
    "    return (a,b,c)\n",
    "add(20,30)"
   ]
  },
  {
   "cell_type": "code",
   "execution_count": 12,
   "metadata": {},
   "outputs": [
    {
     "name": "stdout",
     "output_type": "stream",
     "text": [
      "7\n",
      "n is odd\n"
     ]
    }
   ],
   "source": [
    "# even odd\n",
    "def number(n):\n",
    "    if(n%2==0):\n",
    "        print(\"n is even\")\n",
    "    else:\n",
    "        print(\"n is odd\")\n",
    "n=int(input())    \n",
    "number(n)"
   ]
  },
  {
   "cell_type": "code",
   "execution_count": 14,
   "metadata": {},
   "outputs": [
    {
     "name": "stdout",
     "output_type": "stream",
     "text": [
      "1\n",
      "3\n",
      "6\n",
      "10\n",
      "15\n",
      "21\n",
      "28\n",
      "36\n",
      "45\n",
      "55\n",
      "55\n"
     ]
    }
   ],
   "source": [
    "# sum of n nutural numbers\n",
    "def sum(n):\n",
    "    s=0\n",
    "    for i in range(1,n+1):\n",
    "        s=s+i\n",
    "        print(s)\n",
    "    print(s)\n",
    "sum(10)"
   ]
  },
  {
   "cell_type": "markdown",
   "metadata": {},
   "source": [
    "### sum of the product of the natural numbers"
   ]
  },
  {
   "cell_type": "code",
   "execution_count": 19,
   "metadata": {},
   "outputs": [
    {
     "name": "stdout",
     "output_type": "stream",
     "text": [
      "5\n",
      "p---> 1\n",
      "p---> 2\n",
      "p---> 6\n",
      "p---> 24\n",
      "p---> 120\n",
      "120\n"
     ]
    }
   ],
   "source": [
    "# sum of the product of the natural numbers\n",
    "def sumofproduct(n):\n",
    "    p=1\n",
    "    for i in range(1,n+1):\n",
    "        p=p*i\n",
    "        print(\"p--->\",p)\n",
    "    print(p)\n",
    "n=int(input())\n",
    "sumofproduct(n)"
   ]
  },
  {
   "cell_type": "markdown",
   "metadata": {},
   "source": [
    "### 2.find the avg of first n natural numbers"
   ]
  },
  {
   "cell_type": "code",
   "execution_count": 24,
   "metadata": {},
   "outputs": [
    {
     "name": "stdout",
     "output_type": "stream",
     "text": [
      "5\n",
      "sum---> 1\n",
      "count---> 1\n",
      "sum---> 2\n",
      "count---> 2\n",
      "sum---> 3\n",
      "count---> 3\n",
      "sum---> 4\n",
      "count---> 4\n",
      "sum---> 5\n",
      "count---> 5\n",
      "avg---> 1.0\n"
     ]
    }
   ],
   "source": [
    "def avg(n):\n",
    "    sum=0\n",
    "    count=0\n",
    "    for i in range(1,n+1):\n",
    "        sum=sum+1\n",
    "        print(\"sum--->\",sum)\n",
    "        count=count+1\n",
    "        print(\"count--->\",count)\n",
    "    avg=sum/count\n",
    "    print(\"avg--->\",avg)\n",
    "n=int(input())\n",
    "avg(n)"
   ]
  },
  {
   "cell_type": "markdown",
   "metadata": {},
   "source": [
    "### 3.fibanocci serice"
   ]
  },
  {
   "cell_type": "code",
   "execution_count": 25,
   "metadata": {},
   "outputs": [
    {
     "name": "stdout",
     "output_type": "stream",
     "text": [
      "5\n",
      "1\n",
      "2\n",
      "3\n",
      "5\n",
      "8\n"
     ]
    }
   ],
   "source": [
    "def fibanocci(n):\n",
    "    a=0\n",
    "    b=1\n",
    "    for i in range(1,n+1):\n",
    "        c=a+b\n",
    "        print(c)\n",
    "        a=b\n",
    "        b=c\n",
    "n=int(input())\n",
    "fibanocci(n)\n",
    "        "
   ]
  },
  {
   "cell_type": "markdown",
   "metadata": {},
   "source": [
    "### 4.print the factors of a given number"
   ]
  },
  {
   "cell_type": "code",
   "execution_count": 48,
   "metadata": {},
   "outputs": [
    {
     "name": "stdout",
     "output_type": "stream",
     "text": [
      "6\n",
      "1 2 3 6 "
     ]
    }
   ],
   "source": [
    "def factors(n):\n",
    "    for i in range(1,n+1):\n",
    "        if(n%i==0):\n",
    "            print(i,end=\" \")\n",
    "n=int(input())\n",
    "factors(n)"
   ]
  },
  {
   "cell_type": "markdown",
   "metadata": {},
   "source": [
    "## 5.factors of the sum of a given number "
   ]
  },
  {
   "cell_type": "code",
   "execution_count": 50,
   "metadata": {},
   "outputs": [
    {
     "name": "stdout",
     "output_type": "stream",
     "text": [
      "10\n",
      "1 2 5 10 s---> 18\n"
     ]
    }
   ],
   "source": [
    "def factorsum(n):\n",
    "    s=0\n",
    "    for i in range(1,n+1):\n",
    "        if(n%i==0):\n",
    "            s=s+i\n",
    "            print(i,end=\" \")\n",
    "    print(\"s--->\",s)\n",
    "n=int(input())\n",
    "factorsum(n)"
   ]
  },
  {
   "cell_type": "markdown",
   "metadata": {},
   "source": [
    "### 6.check whether a givin year is leap year or not"
   ]
  },
  {
   "cell_type": "code",
   "execution_count": 70,
   "metadata": {},
   "outputs": [
    {
     "name": "stdout",
     "output_type": "stream",
     "text": [
      "2012\n",
      "is leap year\n"
     ]
    }
   ],
   "source": [
    "def year(y):\n",
    "    if((y%4==0 and y%100!=0) or y%400==0):\n",
    "        print(\"is leap year\")\n",
    "    else:\n",
    "        print(\"is not leap year\")\n",
    "y=int(input())\n",
    "year(y)\n",
    "    "
   ]
  },
  {
   "cell_type": "markdown",
   "metadata": {},
   "source": [
    "### 7.check wether given number is perfact or not"
   ]
  },
  {
   "cell_type": "code",
   "execution_count": 66,
   "metadata": {},
   "outputs": [
    {
     "name": "stdout",
     "output_type": "stream",
     "text": [
      "6\n",
      "6\n",
      "n is perfect\n"
     ]
    }
   ],
   "source": [
    "def perfectnumber(n):\n",
    "    sum=0\n",
    "    for i in range(1,n):\n",
    "            if(n%i==0):\n",
    "                sum=sum+i\n",
    "    print(sum)\n",
    "    if(sum==n):\n",
    "        print(\"n is perfect\")\n",
    "    else:\n",
    "        print(\"n is not perfact\")\n",
    "n=int(input())\n",
    "perfectnumber(n)\n",
    "        "
   ]
  },
  {
   "cell_type": "markdown",
   "metadata": {},
   "source": [
    "## 8.program to print the sum of the digits in number"
   ]
  },
  {
   "cell_type": "code",
   "execution_count": 1,
   "metadata": {},
   "outputs": [
    {
     "name": "stdout",
     "output_type": "stream",
     "text": [
      "123\n",
      "6\n"
     ]
    }
   ],
   "source": [
    "def sumofdigit(n):\n",
    "    s=0\n",
    "    for i in range(0,n):\n",
    "        s=s+n%10\n",
    "        n=n//10\n",
    "    print(s)\n",
    "n=int(input())\n",
    "sumofdigit(n)\n",
    "        \n",
    "        \n",
    "        "
   ]
  },
  {
   "cell_type": "markdown",
   "metadata": {},
   "source": [
    "### 9. program to check wether the given number is amstrong or not"
   ]
  },
  {
   "cell_type": "code",
   "execution_count": 7,
   "metadata": {},
   "outputs": [
    {
     "name": "stdout",
     "output_type": "stream",
     "text": [
      "153\n",
      "153\n",
      "is amstrong\n"
     ]
    }
   ],
   "source": [
    "def amstrong(n):\n",
    "    s=0\n",
    "    b=n\n",
    "    for i in range(1,n+1):\n",
    "        a=n%10\n",
    "        s=s+a**3\n",
    "        n=n//10\n",
    "    print(s)\n",
    "    if(s==b):\n",
    "        print(\"is amstrong\")\n",
    "    else:\n",
    "        print(\"not amstrong\")\n",
    "n=int(input())\n",
    "amstrong(n)\n",
    "        "
   ]
  },
  {
   "cell_type": "markdown",
   "metadata": {},
   "source": [
    "### 10.program to check wether the given number isprime or not"
   ]
  },
  {
   "cell_type": "code",
   "execution_count": 13,
   "metadata": {},
   "outputs": [
    {
     "name": "stdout",
     "output_type": "stream",
     "text": [
      "7\n",
      "2\n",
      "is prime\n"
     ]
    }
   ],
   "source": [
    "def prime(n):\n",
    "    fact=0\n",
    "    for i in range(1,n+1):\n",
    "        if(n%i==0):\n",
    "            fact=fact+1\n",
    "    print(fact)\n",
    "    if(fact==2):\n",
    "        print(\"is prime\")\n",
    "    else:\n",
    "        print(\"is not prime\")\n",
    "n=int(input())\n",
    "prime(n)\n",
    "            \n",
    "        "
   ]
  },
  {
   "cell_type": "code",
   "execution_count": null,
   "metadata": {},
   "outputs": [],
   "source": []
  }
 ],
 "metadata": {
  "kernelspec": {
   "display_name": "Python 3",
   "language": "python",
   "name": "python3"
  },
  "language_info": {
   "codemirror_mode": {
    "name": "ipython",
    "version": 3
   },
   "file_extension": ".py",
   "mimetype": "text/x-python",
   "name": "python",
   "nbconvert_exporter": "python",
   "pygments_lexer": "ipython3",
   "version": "3.7.3"
  }
 },
 "nbformat": 4,
 "nbformat_minor": 2
}

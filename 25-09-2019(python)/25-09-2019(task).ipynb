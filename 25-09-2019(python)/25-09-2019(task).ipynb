{
 "cells": [
  {
   "cell_type": "markdown",
   "metadata": {},
   "source": [
    "#### 1.function to print all numbers divisible by 6 and not a factor of 100 in a given range(lb,ub) inclusive"
   ]
  },
  {
   "cell_type": "code",
   "execution_count": 11,
   "metadata": {},
   "outputs": [
    {
     "name": "stdout",
     "output_type": "stream",
     "text": [
      "10\n",
      "30\n",
      "12\n",
      "18\n",
      "24\n"
     ]
    }
   ],
   "source": [
    "def divisible(lb):\n",
    "        if(100%lb!=0)&(lb%6==0):\n",
    "            print(lb)\n",
    "lb=int(input())\n",
    "ub=int(input())\n",
    "for j in range(lb,ub):\n",
    "    divisible(j)"
   ]
  },
  {
   "cell_type": "markdown",
   "metadata": {},
   "source": [
    "####  2.program to print the all the even no in range inclusive"
   ]
  },
  {
   "cell_type": "code",
   "execution_count": 18,
   "metadata": {},
   "outputs": [
    {
     "name": "stdout",
     "output_type": "stream",
     "text": [
      "1\n",
      "10\n",
      "2\n",
      "4\n",
      "6\n",
      "8\n"
     ]
    }
   ],
   "source": [
    "def evenrange(lb):\n",
    "    if(lb%2==0):\n",
    "        \n",
    "        return 1\n",
    "    else:\n",
    "        return 0\n",
    "lb=int(input())\n",
    "ub=int(input())\n",
    "for n in range(lb,ub):\n",
    "    if evenrange(n)==1:\n",
    "        print(n)"
   ]
  },
  {
   "cell_type": "markdown",
   "metadata": {},
   "source": [
    "#### 3.function to find the average of the cubes of all even numbers in a given range(lb,ub) inclusive"
   ]
  },
  {
   "cell_type": "code",
   "execution_count": 21,
   "metadata": {},
   "outputs": [
    {
     "name": "stdout",
     "output_type": "stream",
     "text": [
      "1\n",
      "5\n",
      "avg 36\n"
     ]
    }
   ],
   "source": [
    "lb=int(input())\n",
    "ub=int(input())\n",
    "def cubeavg(ib,ub):\n",
    "    s=0\n",
    "    count=0\n",
    "    for j in range(lb,ub):\n",
    "        if(j%2==0):\n",
    "            a=j**3\n",
    "            s=s+a\n",
    "            count=count+1\n",
    "    print(\"avg\",s//count)\n",
    "cubeavg(lb,ub)   "
   ]
  },
  {
   "cell_type": "markdown",
   "metadata": {},
   "source": [
    "#### 4.program to print all the sum of perfact numbers in a given range"
   ]
  },
  {
   "cell_type": "code",
   "execution_count": 25,
   "metadata": {},
   "outputs": [
    {
     "name": "stdout",
     "output_type": "stream",
     "text": [
      "1\n",
      "50\n",
      "perfact--> 6\n",
      "perfact--> 28\n"
     ]
    }
   ],
   "source": [
    "def perfact(n):\n",
    "    s=0\n",
    "    for i in range(1,n):\n",
    "        if(n%i==0):\n",
    "            s=s+i\n",
    "    if(s==n):\n",
    "        print(\"perfact-->\",n)\n",
    "n=int(input())\n",
    "ub=int(input())\n",
    "for j in range(n,ub):\n",
    "    perfact(j)"
   ]
  },
  {
   "cell_type": "markdown",
   "metadata": {},
   "source": [
    "#### 5.function to generate N odd armstrong numbers"
   ]
  },
  {
   "cell_type": "code",
   "execution_count": 2,
   "metadata": {},
   "outputs": [
    {
     "name": "stdout",
     "output_type": "stream",
     "text": [
      "153\n",
      "amstrong--> 153\n",
      "odd\n"
     ]
    }
   ],
   "source": [
    "def armstrong(n):\n",
    "    s=0\n",
    "    m=n\n",
    "    while(n!=0):\n",
    "        a=n%10\n",
    "        s=s+a**3\n",
    "        n=n//10\n",
    "    if(s==m):\n",
    "        print(\"amstrong-->\",s)\n",
    "        if(s%2!=0):\n",
    "            print(\"odd\")\n",
    "n=int(input())\n",
    "armstrong(n)\n",
    "        "
   ]
  },
  {
   "cell_type": "code",
   "execution_count": null,
   "metadata": {},
   "outputs": [],
   "source": []
  }
 ],
 "metadata": {
  "kernelspec": {
   "display_name": "Python 3",
   "language": "python",
   "name": "python3"
  },
  "language_info": {
   "codemirror_mode": {
    "name": "ipython",
    "version": 3
   },
   "file_extension": ".py",
   "mimetype": "text/x-python",
   "name": "python",
   "nbconvert_exporter": "python",
   "pygments_lexer": "ipython3",
   "version": "3.7.3"
  }
 },
 "nbformat": 4,
 "nbformat_minor": 2
}

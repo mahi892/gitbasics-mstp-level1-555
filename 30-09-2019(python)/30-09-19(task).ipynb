{
 "cells": [
  {
   "cell_type": "markdown",
   "metadata": {},
   "source": [
    "### 1.Write a Python program to generate and print a list and a dictionary of square of numbers between 1 and 15 (both included) "
   ]
  },
  {
   "cell_type": "code",
   "execution_count": 6,
   "metadata": {},
   "outputs": [
    {
     "name": "stdout",
     "output_type": "stream",
     "text": [
      "15\n",
      "{1: 1, 2: 4, 3: 9, 4: 16, 5: 25, 6: 36, 7: 49, 8: 64, 9: 81, 10: 100, 11: 121, 12: 144, 13: 169, 14: 196, 15: 225}\n",
      "[1, 4, 9, 16, 25, 36, 49, 64, 81, 100, 121, 144, 169, 196, 225]\n"
     ]
    }
   ],
   "source": [
    "a={}\n",
    "b=[]\n",
    "l=int(input())\n",
    "for i in range(1,l+1):\n",
    "    b.append(i**2)\n",
    "    a[i]=i**2\n",
    "print(a)\n",
    "print(b)"
   ]
  },
  {
   "cell_type": "markdown",
   "metadata": {},
   "source": [
    "#### 2.Take 10 integer inputs from user and store them in a list and print them on screen."
   ]
  },
  {
   "cell_type": "code",
   "execution_count": 1,
   "metadata": {},
   "outputs": [
    {
     "name": "stdout",
     "output_type": "stream",
     "text": [
      "10\n",
      "1\n",
      "2\n",
      "3\n",
      "4\n",
      "5\n",
      "6\n",
      "7\n",
      "8\n",
      "9\n",
      "10\n",
      "[1, 2, 3, 4, 5, 6, 7, 8, 9, 10]\n"
     ]
    }
   ],
   "source": [
    "list=[]\n",
    "l=int(input())\n",
    "for i in range(1,l+1):\n",
    "    a=int(input())\n",
    "    list.append(a)\n",
    "print(list)"
   ]
  },
  {
   "cell_type": "markdown",
   "metadata": {},
   "source": [
    "### 3.l=[1,5,7,3,2,4,5,9],print list of all even numbers from the given list "
   ]
  },
  {
   "cell_type": "code",
   "execution_count": 12,
   "metadata": {},
   "outputs": [
    {
     "name": "stdout",
     "output_type": "stream",
     "text": [
      "2\n",
      "4\n",
      "[2, 4]\n"
     ]
    }
   ],
   "source": [
    "l=[1,5,7,3,2,4,5,9]\n",
    "x=[]\n",
    "for i in range(0,len(l)):\n",
    "    if(l[i]%2==0):\n",
    "        print(l[i])\n",
    "        x.append(l[i])\n",
    "print(x)\n",
    "\n"
   ]
  },
  {
   "cell_type": "markdown",
   "metadata": {},
   "source": [
    "### 5.Ask user to give name and marks of 10 different students. Store them in dictionary."
   ]
  },
  {
   "cell_type": "code",
   "execution_count": 1,
   "metadata": {},
   "outputs": [
    {
     "name": "stdout",
     "output_type": "stream",
     "text": [
      "10\n",
      "75\n",
      "uma\n",
      "65\n",
      "rama\n",
      "90\n",
      "lucky\n",
      "60\n",
      "sumi\n",
      "0\n",
      "gayi\n",
      "78\n",
      "swapna\n",
      "89\n",
      "uday\n",
      "93\n",
      "sudha\n",
      "82\n",
      "lakshmi\n",
      "85\n",
      "ram\n",
      "{'uma': 75, 'rama': 65, 'lucky': 90, 'sumi': 60, 'gayi': 0, 'swapna': 78, 'uday': 89, 'sudha': 93, 'lakshmi': 82, 'ram': 85}\n"
     ]
    }
   ],
   "source": [
    "d={}\n",
    "n=int(input())\n",
    "for i in range(1,n+1):\n",
    "    a=int(input())\n",
    "    b=input()\n",
    "    d[b]=a\n",
    "print(d)\n"
   ]
  },
  {
   "cell_type": "markdown",
   "metadata": {},
   "source": [
    "### 6.Sort the dictionary created in previous example according to marks."
   ]
  },
  {
   "cell_type": "code",
   "execution_count": 8,
   "metadata": {},
   "outputs": [
    {
     "name": "stdout",
     "output_type": "stream",
     "text": [
      "3\n",
      "90\n",
      "a\n",
      "50\n",
      "b\n",
      "58\n",
      "c\n",
      "{90: 'a', 50: 'b', 58: 'c'}\n",
      "50 : b\n",
      "58 : c\n",
      "90 : a\n"
     ]
    }
   ],
   "source": [
    "d={}\n",
    "n=int(input())\n",
    "for i in range(1,n+1):\n",
    "    a=int(input())\n",
    "    b=input()\n",
    "    d[a]=b\n",
    "print(d)\n",
    "x=sorted(d.keys())\n",
    "for i in x:\n",
    "    print(i,\":\",d[i])"
   ]
  },
  {
   "cell_type": "code",
   "execution_count": null,
   "metadata": {},
   "outputs": [],
   "source": []
  },
  {
   "cell_type": "markdown",
   "metadata": {},
   "source": [
    "### 4.Take 10 integer inputs from user and print the following:\n",
    "    number of positive numbers\n",
    "    number of negative numbers\n",
    "    number of odd numbers\n",
    "    number of even numbers\n",
    "    number of 0s.using dictionaries\n",
    "    a=[10,20,-5,-6,3,4,0,0,-2,8]\n",
    "    d={p:5,n:3,e:6,odd:2,0:2}"
   ]
  },
  {
   "cell_type": "code",
   "execution_count": 1,
   "metadata": {},
   "outputs": [
    {
     "name": "stdout",
     "output_type": "stream",
     "text": [
      "10\n",
      "20\n",
      "-9\n",
      "0\n",
      "99\n",
      "3\n",
      "6\n",
      "-89\n",
      "-8\n",
      "2\n",
      "4\n",
      "{'p': 6, 'n': 3, 'e': 5, 'o': 4, 'z': 1}\n"
     ]
    }
   ],
   "source": [
    "d=[]\n",
    "s=int(input())\n",
    "for i in range(1,s+1):\n",
    "    n=int(input())\n",
    "    d.append(n)\n",
    "x={'p':0,'n':0,'e':0,'o':0,'z':0}\n",
    "for j in d:\n",
    "    if j>0:\n",
    "        x['p']+=1\n",
    "        if j%2==0:\n",
    "            x['e']+=1\n",
    "        else:\n",
    "            x['o']+=1\n",
    "    elif j<0:\n",
    "        x['n']+=1\n",
    "        if j%2==0:\n",
    "            x['e']+=1\n",
    "        else:\n",
    "            x['o']+=1\n",
    "    elif j==0:\n",
    "        x['z']+=1\n",
    "print(x)\n",
    "        \n",
    "        \n",
    "    \n",
    "\n",
    "        "
   ]
  },
  {
   "cell_type": "markdown",
   "metadata": {},
   "source": [
    "### 7.Use dictionary to store antonyms of words. \n",
    "\n",
    "E.g.- 'Right':'Left', 'Up':'Down', etc. Display all words and then ask user to enter a word and display antonym of it."
   ]
  },
  {
   "cell_type": "code",
   "execution_count": 13,
   "metadata": {},
   "outputs": [
    {
     "name": "stdout",
     "output_type": "stream",
     "text": [
      "['right', 'up']\n",
      "up\n",
      "down\n"
     ]
    }
   ],
   "source": [
    "d={\"right\":\"left\",\"up\":\"down\"}\n",
    "print(list(d.keys()))\n",
    "n=input()\n",
    "print(d[n])\n"
   ]
  },
  {
   "cell_type": "markdown",
   "metadata": {},
   "source": [
    "### 8.Count the number of occurrence of each letter in word \"MISSISSIPPI\". Store count of every letter with the letter in a dictionary."
   ]
  },
  {
   "cell_type": "code",
   "execution_count": 3,
   "metadata": {},
   "outputs": [
    {
     "name": "stdout",
     "output_type": "stream",
     "text": [
      "{'m': 1, 'i': 4, 's': 4, 'p': 1}\n"
     ]
    }
   ],
   "source": [
    "a=\"mississipi\"\n",
    "d={}\n",
    "for i in a:\n",
    "    d[i]=a.count(i)\n",
    "print(d)\n",
    "    "
   ]
  },
  {
   "cell_type": "markdown",
   "metadata": {},
   "source": [
    "### 9.From the previous question, sort according to the number of letters."
   ]
  },
  {
   "cell_type": "code",
   "execution_count": 4,
   "metadata": {},
   "outputs": [
    {
     "name": "stdout",
     "output_type": "stream",
     "text": [
      "i : 4\n",
      "m : 1\n",
      "p : 1\n",
      "s : 4\n"
     ]
    }
   ],
   "source": [
    "x=sorted(d.keys())\n",
    "for i in x:\n",
    "    print(i,\":\",d[i])\n"
   ]
  },
  {
   "cell_type": "code",
   "execution_count": null,
   "metadata": {},
   "outputs": [],
   "source": []
  }
 ],
 "metadata": {
  "kernelspec": {
   "display_name": "Python 3",
   "language": "python",
   "name": "python3"
  },
  "language_info": {
   "codemirror_mode": {
    "name": "ipython",
    "version": 3
   },
   "file_extension": ".py",
   "mimetype": "text/x-python",
   "name": "python",
   "nbconvert_exporter": "python",
   "pygments_lexer": "ipython3",
   "version": "3.7.3"
  }
 },
 "nbformat": 4,
 "nbformat_minor": 2
}

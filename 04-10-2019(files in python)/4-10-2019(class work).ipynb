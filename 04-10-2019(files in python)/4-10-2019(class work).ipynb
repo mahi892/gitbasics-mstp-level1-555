{
 "cells": [
  {
   "cell_type": "markdown",
   "metadata": {},
   "source": [
    "## File Modes\n",
    "* tell\n",
    "* seek\n",
    "* w+=write and read"
   ]
  },
  {
   "cell_type": "code",
   "execution_count": 2,
   "metadata": {},
   "outputs": [],
   "source": [
    "def files(f):\n",
    "    f=open(\"file_operations.txt\",\"w\")\n",
    "    f.write(\"hello world\\n\")\n",
    "    f.write(\"python in files\\n\")\n",
    "    f.write(\"mstp apssdc\\n\")\n",
    "    f.write(\"kvsw finalcse\\n\")\n",
    "    f.close()\n",
    "f=\"file_operations.txt\"\n",
    "files(f)"
   ]
  },
  {
   "cell_type": "code",
   "execution_count": 45,
   "metadata": {},
   "outputs": [
    {
     "name": "stdout",
     "output_type": "stream",
     "text": [
      "543\n",
      "2\n",
      "not palindrom\n"
     ]
    }
   ],
   "source": [
    "n=input()\n",
    "n1=int(n)\n",
    "rev=0\n",
    "for i in range(len(n)):\n",
    "        a=int(n)%10\n",
    "        rev=rev*10+a\n",
    "        n=int(n)//10\n",
    "print(i)\n",
    "if(rev==n1):\n",
    "    print(\"palindrom\")\n",
    "else:\n",
    "    print(\"not palindrom\")"
   ]
  },
  {
   "cell_type": "code",
   "execution_count": 15,
   "metadata": {},
   "outputs": [],
   "source": [
    "filepath=\"fileoperation1.txt\"\n",
    "def filewrite(filepath,mode):\n",
    "    with open(filepath,'w') as f:\n",
    "        f.write(mode)\n",
    "        f.write(\"program\\n\")\n",
    "filewrite(filepath,\"hello\\n\")"
   ]
  },
  {
   "cell_type": "code",
   "execution_count": 16,
   "metadata": {},
   "outputs": [
    {
     "name": "stdout",
     "output_type": "stream",
     "text": [
      "hello\n",
      "program\n",
      "\n",
      "16\n"
     ]
    }
   ],
   "source": [
    "f=open(\"fileoperation1.txt\",\"r\")\n",
    "f1=f.read(17)\n",
    "print(f1)\n",
    "print(f.tell())\n",
    "f.close()"
   ]
  },
  {
   "cell_type": "code",
   "execution_count": 20,
   "metadata": {},
   "outputs": [
    {
     "data": {
      "text/plain": [
       "16"
      ]
     },
     "execution_count": 20,
     "metadata": {},
     "output_type": "execute_result"
    }
   ],
   "source": [
    "x=open(\"fileoperation1.txt\",\"r\")\n",
    "x.read()\n",
    "x.tell()\n"
   ]
  },
  {
   "cell_type": "code",
   "execution_count": 21,
   "metadata": {},
   "outputs": [
    {
     "name": "stdout",
     "output_type": "stream",
     "text": [
      "hello\n",
      "program\n",
      "\n",
      "lo\n",
      "program\n",
      "\n"
     ]
    }
   ],
   "source": [
    "x=open(\"fileoperation1.txt\",\"r\")\n",
    "print(x.read())\n",
    "x.seek(3)\n",
    "x.tell()\n",
    "print(x.read())\n"
   ]
  },
  {
   "cell_type": "code",
   "execution_count": 24,
   "metadata": {},
   "outputs": [
    {
     "name": "stdout",
     "output_type": "stream",
     "text": [
      "mamatha is a good girl\n"
     ]
    }
   ],
   "source": [
    "filepath=\"file_operation2.txt\"\n",
    "def writeread(filepath):\n",
    "    with open(filepath,'w+') as f:\n",
    "        f.write(\"smamatha is a good girl\")\n",
    "        f.seek(1)\n",
    "        f1=f.read()\n",
    "        print(f1)\n",
    "writeread(filepath)"
   ]
  },
  {
   "cell_type": "code",
   "execution_count": 28,
   "metadata": {},
   "outputs": [
    {
     "name": "stdout",
     "output_type": "stream",
     "text": [
      "565\n",
      "palindrom\n"
     ]
    }
   ],
   "source": [
    "n=input()\n",
    "def numberpali(n):\n",
    "    n1=n[-1::-1]\n",
    "    if(n==n1):\n",
    "        print(\"palindrom\")\n",
    "    else:\n",
    "        print(\"not palindrom\")\n",
    "numberpali(n)"
   ]
  },
  {
   "cell_type": "code",
   "execution_count": 48,
   "metadata": {},
   "outputs": [
    {
     "name": "stdout",
     "output_type": "stream",
     "text": [
      "121\n",
      "121\n",
      "p\n"
     ]
    }
   ],
   "source": [
    "n=input()\n",
    "def number(n):\n",
    "    r=\"\"\n",
    "    n1=n\n",
    "    for i in n:\n",
    "        r=i+r\n",
    "    print(r)\n",
    "    if(r==n1):\n",
    "        print(\"p\")\n",
    "    else:\n",
    "        print(\"np\")\n",
    "number(n)"
   ]
  },
  {
   "cell_type": "code",
   "execution_count": 40,
   "metadata": {},
   "outputs": [
    {
     "name": "stdout",
     "output_type": "stream",
     "text": [
      "356\n",
      "np\n"
     ]
    }
   ],
   "source": [
    "n=input()\n",
    "r=\"\"\n",
    "for i in range(len(n)):\n",
    "    r=n[i]+r\n",
    "if(r==n):\n",
    "    print(\"p\")\n",
    "else:\n",
    "    print(\"np\")"
   ]
  },
  {
   "cell_type": "code",
   "execution_count": null,
   "metadata": {},
   "outputs": [],
   "source": []
  }
 ],
 "metadata": {
  "kernelspec": {
   "display_name": "Python 3",
   "language": "python",
   "name": "python3"
  },
  "language_info": {
   "codemirror_mode": {
    "name": "ipython",
    "version": 3
   },
   "file_extension": ".py",
   "mimetype": "text/x-python",
   "name": "python",
   "nbconvert_exporter": "python",
   "pygments_lexer": "ipython3",
   "version": "3.7.3"
  }
 },
 "nbformat": 4,
 "nbformat_minor": 2
}

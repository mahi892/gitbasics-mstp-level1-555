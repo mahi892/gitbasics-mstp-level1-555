{
 "cells": [
  {
   "cell_type": "markdown",
   "metadata": {},
   "source": [
    "# Task\n",
    "#### 1.Write a Python program to get a string from a given string where all occurrences of its first char have been changed to '$', except the first char itself. \n",
    "Sample String : 'restart'"
   ]
  },
  {
   "cell_type": "code",
   "execution_count": 33,
   "metadata": {},
   "outputs": [
    {
     "name": "stdout",
     "output_type": "stream",
     "text": [
      "resta$t\n"
     ]
    }
   ],
   "source": [
    "a=\"r\"\n",
    "b=\"estart\"\n",
    "c=(b.replace('r','$'))\n",
    "print(a+c)"
   ]
  },
  {
   "cell_type": "markdown",
   "metadata": {},
   "source": [
    "### 2.Take a string “Problem Solving Using Python” \n",
    "* Find the length of the string \n",
    "* Change the string to lowercase \n",
    "* Print the string in reverse order \n",
    "* Split the string\n",
    "* Print the string without spaces \n",
    "* Find how many times “s” is repeated in a given string "
   ]
  },
  {
   "cell_type": "code",
   "execution_count": 27,
   "metadata": {},
   "outputs": [
    {
     "name": "stdout",
     "output_type": "stream",
     "text": [
      "28\n",
      "problem solving using python\n",
      "['Problem', 'Solving', 'Using', 'Python']\n",
      "1\n",
      "ProblemSolvingUsingpython\n"
     ]
    }
   ],
   "source": [
    "s=\"Problem Solving Using Python\"\n",
    "print(len(s))#length of string\n",
    "print(s.lower())#change in lower case \n",
    "b=s.split()#split\n",
    "print(b)\n",
    "s[-1::-1]#reverse the string\n",
    "print(s.count(s))#count of s\n",
    "print(\"Problem\"+\"Solving\"+\"Using\"+\"python\")"
   ]
  },
  {
   "cell_type": "code",
   "execution_count": 37,
   "metadata": {},
   "outputs": [
    {
     "name": "stdout",
     "output_type": "stream",
     "text": [
      "ProblemSolvingUsingPython"
     ]
    }
   ],
   "source": [
    "s=\"Problem Solving Using Python\"\n",
    "b=s.split()\n",
    "for i in range(len(b)):\n",
    "    print(b[i],end=\"\")"
   ]
  },
  {
   "cell_type": "markdown",
   "metadata": {},
   "source": [
    "### 3.Take a string “python programming by python platforms”\n",
    "* ●Find how many times “python” is repeated"
   ]
  },
  {
   "cell_type": "code",
   "execution_count": 26,
   "metadata": {},
   "outputs": [
    {
     "name": "stdout",
     "output_type": "stream",
     "text": [
      "2\n"
     ]
    }
   ],
   "source": [
    "n=\"python programming by python platforms\"\n",
    "print(n.count(\"python\"))"
   ]
  },
  {
   "cell_type": "code",
   "execution_count": null,
   "metadata": {},
   "outputs": [],
   "source": []
  }
 ],
 "metadata": {
  "kernelspec": {
   "display_name": "Python 3",
   "language": "python",
   "name": "python3"
  },
  "language_info": {
   "codemirror_mode": {
    "name": "ipython",
    "version": 3
   },
   "file_extension": ".py",
   "mimetype": "text/x-python",
   "name": "python",
   "nbconvert_exporter": "python",
   "pygments_lexer": "ipython3",
   "version": "3.7.3"
  }
 },
 "nbformat": 4,
 "nbformat_minor": 2
}

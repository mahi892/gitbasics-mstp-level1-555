{
 "cells": [
  {
   "cell_type": "markdown",
   "metadata": {},
   "source": [
    "## file handling in python\n",
    "* read--r\n",
    "* write--w\n",
    "* append--a\n",
    "* read&write--r+\n",
    "* write&read--w+\n",
    "* append&read--a+\n",
    "* exclusive write--x"
   ]
  },
  {
   "cell_type": "code",
   "execution_count": null,
   "metadata": {},
   "outputs": [],
   "source": [
    "## file opening\n",
    "## file=open(\"sample.txt\",\"mode\")"
   ]
  },
  {
   "cell_type": "code",
   "execution_count": 58,
   "metadata": {},
   "outputs": [],
   "source": [
    "# create a file and add some content\n",
    "f=open(\"data.txt\",\"w\")\n",
    "f.write(\"welcome to python\")\n",
    "f.write(\"\\nkvsw college\")\n",
    "f.close()"
   ]
  },
  {
   "cell_type": "code",
   "execution_count": 59,
   "metadata": {},
   "outputs": [
    {
     "name": "stdout",
     "output_type": "stream",
     "text": [
      "welcome to python\n",
      "kvsw college\n"
     ]
    }
   ],
   "source": [
    "# print the content of a file\n",
    "filedata=open(\"data.txt\",\"r\")\n",
    "f1=filedata.read()\n",
    "print(f1)\n",
    "#filedata.close()"
   ]
  },
  {
   "cell_type": "code",
   "execution_count": 60,
   "metadata": {},
   "outputs": [
    {
     "name": "stdout",
     "output_type": "stream",
     "text": [
      "welcome to python\n",
      "kvsw college\n"
     ]
    }
   ],
   "source": [
    "def read_content(filepath):\n",
    "    filepath=open(\"data.txt\",\"r\")\n",
    "    data=filepath.read()\n",
    "    print(data)\n",
    "filepath=\"data.txt\"\n",
    "read_content(filepath)"
   ]
  },
  {
   "cell_type": "code",
   "execution_count": 61,
   "metadata": {},
   "outputs": [],
   "source": [
    "def write_content(filepath):\n",
    "    filepath=open(\"data.txt\",\"w\")\n",
    "    filepath.write(\"\\nmstp apssdc\\n\")\n",
    "    filepath.close()\n",
    "filepath=\"data.txt\"\n",
    "write_content(filepath)\n",
    "    "
   ]
  },
  {
   "cell_type": "code",
   "execution_count": 62,
   "metadata": {},
   "outputs": [],
   "source": [
    "def appendfile(append):\n",
    "    append=open(\"data.txt\",\"a\")\n",
    "    append.write(\"\\n skill development\\n\")\n",
    "    append.close()\n",
    "append=\"data.txt\"\n",
    "appendfile(append)"
   ]
  },
  {
   "cell_type": "code",
   "execution_count": 63,
   "metadata": {},
   "outputs": [
    {
     "name": "stdout",
     "output_type": "stream",
     "text": [
      "\n",
      "mstp apssdc\n",
      "\n",
      " skill development\n",
      "\n"
     ]
    }
   ],
   "source": [
    "def read_filecontent(append):\n",
    "    append=open(\"data.txt\",\"r\")\n",
    "    data=append.read()\n",
    "    print(data)\n",
    "append=\"data.txt\"\n",
    "read_filecontent(append)\n",
    "    "
   ]
  },
  {
   "cell_type": "code",
   "execution_count": 64,
   "metadata": {},
   "outputs": [
    {
     "name": "stdout",
     "output_type": "stream",
     "text": [
      "\n",
      "\n"
     ]
    }
   ],
   "source": [
    "m=open(\"data.txt\",\"r\")\n",
    "x=m.readline()\n",
    "print(x)"
   ]
  },
  {
   "cell_type": "code",
   "execution_count": 65,
   "metadata": {},
   "outputs": [
    {
     "name": "stdout",
     "output_type": "stream",
     "text": [
      "\n",
      "\n",
      "mstp apssdc\n",
      "\n",
      "\n",
      "\n",
      " skill development\n",
      "\n"
     ]
    }
   ],
   "source": [
    "m=open(\"data.txt\",\"r\")\n",
    "z=m.readlines()\n",
    "for i in z:\n",
    "    print(i)"
   ]
  },
  {
   "cell_type": "code",
   "execution_count": 66,
   "metadata": {},
   "outputs": [
    {
     "name": "stdout",
     "output_type": "stream",
     "text": [
      "\n",
      "\n",
      "mstp apssdc\n",
      "\n",
      "\n",
      "\n",
      " skill development\n",
      "\n"
     ]
    }
   ],
   "source": [
    "def readfile(lines):\n",
    "    lines=open(\"data.txt\",\"r\")\n",
    "    z=lines.readlines()\n",
    "    for i in z:\n",
    "        print(i)\n",
    "lines=\"data.txt\"\n",
    "readfile(lines)"
   ]
  },
  {
   "cell_type": "code",
   "execution_count": 67,
   "metadata": {},
   "outputs": [
    {
     "name": "stdout",
     "output_type": "stream",
     "text": [
      "\n",
      "\n",
      "mstp apssdc\n",
      "\n",
      "\n",
      "\n",
      " skill development\n",
      "\n"
     ]
    }
   ],
   "source": [
    "def get_element(files):\n",
    "    with open(\"data.txt\",\"r\") as files:\n",
    "        f=files.readlines()\n",
    "        for i in f:\n",
    "            print(i)\n",
    "files=\"data.txt\"\n",
    "get_element(files)"
   ]
  },
  {
   "cell_type": "code",
   "execution_count": 73,
   "metadata": {},
   "outputs": [
    {
     "name": "stdout",
     "output_type": "stream",
     "text": [
      "4\n"
     ]
    }
   ],
   "source": [
    "def line_count(count):\n",
    "    with open(\"data.txt\",\"r\") as count:\n",
    "        lc=0\n",
    "        f=count.read()lines()\n",
    "        for i in f:\n",
    "            lc=lc+1\n",
    "    print(lc)\n",
    "count=\"data.txt\"\n",
    "line_count(count)"
   ]
  },
  {
   "cell_type": "code",
   "execution_count": 75,
   "metadata": {},
   "outputs": [
    {
     "name": "stdout",
     "output_type": "stream",
     "text": [
      "33\n"
     ]
    }
   ],
   "source": [
    "def char_count(char):\n",
    "    with open(\"data.txt\",\"r\") as char:\n",
    "        c=0\n",
    "        chars=char.read()\n",
    "        for i in chars:\n",
    "            c=c+1\n",
    "    print(c)\n",
    "char=\"data.txt\"\n",
    "char_count(char)"
   ]
  },
  {
   "cell_type": "code",
   "execution_count": 86,
   "metadata": {},
   "outputs": [
    {
     "name": "stdout",
     "output_type": "stream",
     "text": [
      "33\n"
     ]
    }
   ],
   "source": [
    "def length_count(line):\n",
    "    with open(\"data.txt\",\"r\") as line:\n",
    "        c=0\n",
    "        line=line.read()\n",
    "        for i in line:\n",
    "            c=c+1\n",
    "    print(len(line))\n",
    "line=\"data.txt\"\n",
    "length_count(line)"
   ]
  },
  {
   "cell_type": "code",
   "execution_count": 88,
   "metadata": {},
   "outputs": [
    {
     "name": "stdout",
     "output_type": "stream",
     "text": [
      "4\n"
     ]
    }
   ],
   "source": [
    "def word_count(word):\n",
    "    c=0\n",
    "    with open(\"data.txt\",\"r\") as word:\n",
    "        f1=word.read()\n",
    "        f2=f1.split()\n",
    "        print(len(f2))\n",
    "word=\"data.txt\"\n",
    "word_count(word)\n",
    "    \n",
    "        "
   ]
  },
  {
   "cell_type": "code",
   "execution_count": null,
   "metadata": {},
   "outputs": [],
   "source": []
  }
 ],
 "metadata": {
  "kernelspec": {
   "display_name": "Python 3",
   "language": "python",
   "name": "python3"
  },
  "language_info": {
   "codemirror_mode": {
    "name": "ipython",
    "version": 3
   },
   "file_extension": ".py",
   "mimetype": "text/x-python",
   "name": "python",
   "nbconvert_exporter": "python",
   "pygments_lexer": "ipython3",
   "version": "3.7.3"
  }
 },
 "nbformat": 4,
 "nbformat_minor": 2
}
